{
 "cells": [
  {
   "cell_type": "code",
   "execution_count": 1,
   "id": "ebe82727-0c30-4f16-bacc-b2968de03c71",
   "metadata": {},
   "outputs": [
    {
     "data": {
      "text/plain": [
       "'\\nQ1. Explain Class and Object with respect to Object-Oriented Programming. Give a suitable\\n'"
      ]
     },
     "execution_count": 1,
     "metadata": {},
     "output_type": "execute_result"
    }
   ],
   "source": [
    "\"\"\"\n",
    "Q1. Explain Class and Object with respect to Object-Oriented Programming. Give a suitable\n",
    "\"\"\""
   ]
  },
  {
   "cell_type": "code",
   "execution_count": 2,
   "id": "2414e13f-86b0-4d8c-8490-45f151a8b426",
   "metadata": {},
   "outputs": [
    {
     "data": {
      "text/plain": [
       "'\\nIn object-oriented programming (OOP), a class is a blueprint or template for creating objects that encapsulates data and methods to operate on that data. \\nIt defines the properties and behaviors that objects of that class will have.\\n\\nAn object, on the other hand, is an instance of a class. \\n'"
      ]
     },
     "execution_count": 2,
     "metadata": {},
     "output_type": "execute_result"
    }
   ],
   "source": [
    "\"\"\"\n",
    "In object-oriented programming (OOP), a class is a blueprint or template for creating objects that encapsulates data and methods to operate on that data. \n",
    "It defines the properties and behaviors that objects of that class will have.\n",
    "\n",
    "An object, on the other hand, is an instance of a class. \n",
    "\"\"\""
   ]
  },
  {
   "cell_type": "code",
   "execution_count": 3,
   "id": "45f3b5b1-9aab-459b-9aa6-fde22b17cfd0",
   "metadata": {},
   "outputs": [
    {
     "name": "stdout",
     "output_type": "stream",
     "text": [
      "Red 2022 Toyota Camry with 5000 miles\n"
     ]
    }
   ],
   "source": [
    "# Example class definition\n",
    "class Car:\n",
    "    def __init__(self, make, model, year, color, mileage):\n",
    "        self.make = make\n",
    "        self.model = model\n",
    "        self.year = year\n",
    "        self.color = color\n",
    "        self.mileage = mileage\n",
    "    \n",
    "    def drive(self):\n",
    "        # code to drive the car\n",
    "        pass\n",
    "    \n",
    "    def stop(self):\n",
    "        # code to stop the car\n",
    "        pass\n",
    "    \n",
    "    def get_info(self):\n",
    "        return f\"{self.color} {self.year} {self.make} {self.model} with {self.mileage} miles\"\n",
    "\n",
    "# Example object creation and usage\n",
    "my_car = Car(\"Toyota\", \"Camry\", 2022, \"Red\", 5000)\n",
    "my_car.drive()\n",
    "my_car.stop()\n",
    "print(my_car.get_info()) # Output: Red 2022 Toyota Camry with 5000 miles\n"
   ]
  },
  {
   "cell_type": "code",
   "execution_count": 4,
   "id": "5ed41098-ae1e-4529-9340-bca9b6bc3327",
   "metadata": {},
   "outputs": [
    {
     "data": {
      "text/plain": [
       "'\\nQ2. Name the four pillars of OOPs.\\n'"
      ]
     },
     "execution_count": 4,
     "metadata": {},
     "output_type": "execute_result"
    }
   ],
   "source": [
    "\"\"\"\n",
    "Q2. Name the four pillars of OOPs.\n",
    "\"\"\""
   ]
  },
  {
   "cell_type": "code",
   "execution_count": 5,
   "id": "8761b204-8d30-470b-9e44-49792b451b8f",
   "metadata": {},
   "outputs": [
    {
     "data": {
      "text/plain": [
       "\"\\nThe four pillars of object-oriented programming (OOP) are:\\n\\nEncapsulation: This is the concept of wrapping data and methods together within a class so that the data is hidden from the outside world and can only be accessed through the class's methods. It allows for better control over the data and improves the security and maintainability of the code.\\n\\nInheritance: This is the ability of a class to inherit properties and behaviors from a parent class, allowing for code reuse and creating a hierarchical relationship between classes. It can improve the organization and efficiency of the code by avoiding redundant code.\\n\\nPolymorphism: This is the ability of objects to take on many forms or have multiple behaviors, depending on the context in which they are used. It allows for greater flexibility and adaptability in the code and can simplify complex code by allowing objects to be treated uniformly.\\n\\nAbstraction: This is the concept of representing complex real-world entities in a simplified manner within a program. It involves identifying the essential features of an entity and ignoring the non-essential details, allowing for easier understanding and management of the code. It can also improve the modularity and extensibility of the code.\\n\""
      ]
     },
     "execution_count": 5,
     "metadata": {},
     "output_type": "execute_result"
    }
   ],
   "source": [
    "\"\"\"\n",
    "The four pillars of object-oriented programming (OOP) are:\n",
    "\n",
    "Encapsulation: This is the concept of wrapping data and methods together within a class so that the data is hidden from the outside world and can only be accessed through the class's methods. It allows for better control over the data and improves the security and maintainability of the code.\n",
    "\n",
    "Inheritance: This is the ability of a class to inherit properties and behaviors from a parent class, allowing for code reuse and creating a hierarchical relationship between classes. It can improve the organization and efficiency of the code by avoiding redundant code.\n",
    "\n",
    "Polymorphism: This is the ability of objects to take on many forms or have multiple behaviors, depending on the context in which they are used. It allows for greater flexibility and adaptability in the code and can simplify complex code by allowing objects to be treated uniformly.\n",
    "\n",
    "Abstraction: This is the concept of representing complex real-world entities in a simplified manner within a program. It involves identifying the essential features of an entity and ignoring the non-essential details, allowing for easier understanding and management of the code. It can also improve the modularity and extensibility of the code.\n",
    "\"\"\""
   ]
  },
  {
   "cell_type": "code",
   "execution_count": 6,
   "id": "5b2e3b48-d17d-4e47-a97c-ff0d6423358b",
   "metadata": {},
   "outputs": [
    {
     "data": {
      "text/plain": [
       "'\\nQ3. Explain why the __init__() function is used. Give a suitable example.\\n'"
      ]
     },
     "execution_count": 6,
     "metadata": {},
     "output_type": "execute_result"
    }
   ],
   "source": [
    "\"\"\"\n",
    "Q3. Explain why the __init__() function is used. Give a suitable example.\n",
    "\"\"\""
   ]
  },
  {
   "cell_type": "code",
   "execution_count": 8,
   "id": "7b4b6f95-4f48-446d-b305-8c59392c15f7",
   "metadata": {},
   "outputs": [
    {
     "data": {
      "text/plain": [
       "'\\nThe __init__() function is a special method in Python that is called automatically when an object of a class is created. It is used to initialize the instance variables of the object with the values provided by the user or with default values defined in the class.\\n\\nThe __init__() method is important because it ensures that the object is properly initialized and ready to use. Without this method, the object would be created with default values for its instance variables, which may not be what the user wants.\\n'"
      ]
     },
     "execution_count": 8,
     "metadata": {},
     "output_type": "execute_result"
    }
   ],
   "source": [
    "\"\"\"\n",
    "The __init__() function is a special method in Python that is called automatically when an object of a class is created. It is used to initialize the instance variables of the object with the values provided by the user or with default values defined in the class.\n",
    "\n",
    "The __init__() method is important because it ensures that the object is properly initialized and ready to use. Without this method, the object would be created with default values for its instance variables, which may not be what the user wants.\n",
    "\"\"\"\n",
    "# __init__() = A constructor"
   ]
  },
  {
   "cell_type": "code",
   "execution_count": 9,
   "id": "cf993eac-bd20-4964-81f2-f77d6945189a",
   "metadata": {},
   "outputs": [
    {
     "name": "stdout",
     "output_type": "stream",
     "text": [
      "50\n",
      "21\n"
     ]
    }
   ],
   "source": [
    "class Rectangle:\n",
    "    def __init__(self, width, height):\n",
    "        self.width = width\n",
    "        self.height = height\n",
    "    \n",
    "    def area(self):\n",
    "        return self.width * self.height\n",
    "\n",
    "rect1 = Rectangle(5, 10)\n",
    "print(rect1.area()) # Output: 50\n",
    "\n",
    "rect2 = Rectangle(3, 7)\n",
    "print(rect2.area()) # Output: 21\n"
   ]
  },
  {
   "cell_type": "code",
   "execution_count": 10,
   "id": "c6ed4412-61dd-4256-8560-cbd53b463933",
   "metadata": {},
   "outputs": [
    {
     "data": {
      "text/plain": [
       "'\\nQ4. Why self is used in OOPs?\\n'"
      ]
     },
     "execution_count": 10,
     "metadata": {},
     "output_type": "execute_result"
    }
   ],
   "source": [
    "\"\"\"\n",
    "Q4. Why self is used in OOPs?\n",
    "\"\"\""
   ]
  },
  {
   "cell_type": "code",
   "execution_count": 11,
   "id": "e1fcadf0-765c-4b63-aaaf-d53ba63dd1a8",
   "metadata": {},
   "outputs": [
    {
     "data": {
      "text/plain": [
       "'\\nself is used in OOPs to refer to the object that is currently being operated on. \\nIt allows us to access the object\\'s instance variables and methods within its own methods. \\nIt is similar to the use of \"me\" or \"myself\" in everyday language, to refer to the person speaking or writing.\\n'"
      ]
     },
     "execution_count": 11,
     "metadata": {},
     "output_type": "execute_result"
    }
   ],
   "source": [
    "\"\"\"\n",
    "self is used in OOPs to refer to the object that is currently being operated on. \n",
    "It allows us to access the object's instance variables and methods within its own methods. \n",
    "It is similar to the use of \"me\" or \"myself\" in everyday language, to refer to the person speaking or writing.\n",
    "\"\"\""
   ]
  },
  {
   "cell_type": "code",
   "execution_count": 14,
   "id": "765f8588-34a0-4475-82ab-163536035c55",
   "metadata": {},
   "outputs": [
    {
     "name": "stdout",
     "output_type": "stream",
     "text": [
      "Hello, my name is Milan and I am 28 years old.\n"
     ]
    }
   ],
   "source": [
    "class Person:\n",
    "    def __init__(self, name, age):\n",
    "        self.name = name\n",
    "        self.age = age\n",
    "    \n",
    "    def say_hello(self):\n",
    "        print(\"Hello, my name is\", self.name, \"and I am\", self.age, \"years old.\")\n",
    "\n",
    "person1 = Person(\"Milan\", 28)\n",
    "person1.say_hello() # Output: \"Hello, my name is Milan and I am 28 years old.\"\n"
   ]
  },
  {
   "cell_type": "code",
   "execution_count": 15,
   "id": "c7bc242e-4c9b-4dbd-b386-cffbd74f9475",
   "metadata": {},
   "outputs": [
    {
     "data": {
      "text/plain": [
       "'\\nQ5. What is inheritance? Give an example for each type of inheritance.\\n'"
      ]
     },
     "execution_count": 15,
     "metadata": {},
     "output_type": "execute_result"
    }
   ],
   "source": [
    "\"\"\"\n",
    "Q5. What is inheritance? Give an example for each type of inheritance.\n",
    "\"\"\""
   ]
  },
  {
   "cell_type": "code",
   "execution_count": 16,
   "id": "edcb4328-e4c6-408f-924c-f28ca2dfff05",
   "metadata": {},
   "outputs": [
    {
     "data": {
      "text/plain": [
       "'\\nInheritance is one of the key concepts of object-oriented programming that allows a new class to be based on an existing class, inheriting its properties and methods. The existing class is called the \"parent\" or \"superclass\", and the new class is called the \"child\" or \"subclass\". The child class can then add its own methods or override the parent class\\'s methods.\\n\\nThere are several types of inheritance in object-oriented programming, including:\\n\\nSingle inheritance: In single inheritance, a subclass inherits from only one superclass. For example:\\n'"
      ]
     },
     "execution_count": 16,
     "metadata": {},
     "output_type": "execute_result"
    }
   ],
   "source": [
    "\"\"\"\n",
    "Inheritance is one of the key concepts of object-oriented programming that allows a new class to be based on an existing class, inheriting its properties and methods. The existing class is called the \"parent\" or \"superclass\", and the new class is called the \"child\" or \"subclass\". The child class can then add its own methods or override the parent class's methods.\n",
    "\n",
    "There are several types of inheritance in object-oriented programming, including:\n",
    "\n",
    "Single inheritance: In single inheritance, a subclass inherits from only one superclass. For example:\n",
    "\"\"\""
   ]
  },
  {
   "cell_type": "code",
   "execution_count": 17,
   "id": "be382ad0-7f93-4cbd-8f93-16dcc8fb0dbd",
   "metadata": {},
   "outputs": [
    {
     "name": "stdout",
     "output_type": "stream",
     "text": [
      "I am eating\n",
      "Woof!\n"
     ]
    }
   ],
   "source": [
    "class Animal:\n",
    "    def eat(self):\n",
    "        print(\"I am eating\")\n",
    "\n",
    "class Dog(Animal):\n",
    "    def bark(self):\n",
    "        print(\"Woof!\")\n",
    "\n",
    "my_dog = Dog()\n",
    "my_dog.eat() # Output: \"I am eating\"\n",
    "my_dog.bark() # Output: \"Woof!\"\n"
   ]
  },
  {
   "cell_type": "code",
   "execution_count": null,
   "id": "58efafaf-4906-479e-ba0d-6a58b17a4090",
   "metadata": {},
   "outputs": [],
   "source": []
  }
 ],
 "metadata": {
  "kernelspec": {
   "display_name": "Python 3 (ipykernel)",
   "language": "python",
   "name": "python3"
  },
  "language_info": {
   "codemirror_mode": {
    "name": "ipython",
    "version": 3
   },
   "file_extension": ".py",
   "mimetype": "text/x-python",
   "name": "python",
   "nbconvert_exporter": "python",
   "pygments_lexer": "ipython3",
   "version": "3.10.8"
  }
 },
 "nbformat": 4,
 "nbformat_minor": 5
}
